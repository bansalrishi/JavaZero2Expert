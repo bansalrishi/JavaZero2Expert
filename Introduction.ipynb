{
 "cells": [
  {
   "cell_type": "markdown",
   "id": "d3012b32",
   "metadata": {},
   "source": [
    "1. Advantages"
   ]
  },
  {
   "cell_type": "markdown",
   "id": "4e4842ac",
   "metadata": {},
   "source": [
    "## Strings\n",
    "1. String Class Objects are Immutable, which means it can't be modified\n",
    "2. If we try to change it, it will create reference means memory will be wasted\n",
    "3. So, we use StringBuffer"
   ]
  },
  {
   "cell_type": "markdown",
   "id": "d912b51f",
   "metadata": {},
   "source": [
    "String - Method\n",
    "- Length - str.length()\n",
    "- Index - indexOf(str)\n",
    "- Char - str.charAt(index)\n",
    "- Replace - str.replace(old string, new string)\n",
    "- many more"
   ]
  },
  {
   "cell_type": "markdown",
   "id": "070ef54a",
   "metadata": {},
   "source": [
    "## String Buffer\n",
    "1. Append notpossible in String"
   ]
  },
  {
   "cell_type": "markdown",
   "id": "ec8302ca",
   "metadata": {},
   "source": [
    "StringBuffer - Method\n",
    "- Append - str.append()\n",
    "- Insert - str.insert(5, \"Hello\")\n",
    "- Delete - str.delete( 5, 10)\n",
    "- Reverse - str.reverse()\n",
    "- replace - str.replace(1,3, \"Hi\")\n",
    "- manymore"
   ]
  },
  {
   "cell_type": "markdown",
   "id": "ba97b334",
   "metadata": {},
   "source": [
    "## This Keyword\n",
    "- represent current object instance"
   ]
  },
  {
   "cell_type": "code",
   "execution_count": null,
   "id": "7dffc3e0",
   "metadata": {},
   "outputs": [],
   "source": []
  }
 ],
 "metadata": {
  "kernelspec": {
   "display_name": "Python 3",
   "language": "python",
   "name": "python3"
  },
  "language_info": {
   "codemirror_mode": {
    "name": "ipython",
    "version": 3
   },
   "file_extension": ".py",
   "mimetype": "text/x-python",
   "name": "python",
   "nbconvert_exporter": "python",
   "pygments_lexer": "ipython3",
   "version": "3.8.8"
  }
 },
 "nbformat": 4,
 "nbformat_minor": 5
}
