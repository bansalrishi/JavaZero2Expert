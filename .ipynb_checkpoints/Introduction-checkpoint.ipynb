{
 "cells": [
  {
   "cell_type": "markdown",
   "id": "882df33f",
   "metadata": {},
   "source": [
    "1. Advantages"
   ]
  },
  {
   "cell_type": "markdown",
   "id": "0b0e5469",
   "metadata": {},
   "source": [
    "## Strings\n",
    "1. String Class Objects are Immutable, which means it can't be modified\n",
    "2. If we try to change it, it will create reference means memory will be wasted\n",
    "3. So, we use StringBuffer"
   ]
  },
  {
   "cell_type": "markdown",
   "id": "fb0a8009",
   "metadata": {},
   "source": [
    "String - Method\n",
    "- Length - str.length()\n",
    "- Index - indexOf(str)\n",
    "- Char - str.charAt(index)\n",
    "- Replace - str.replace(old string, new string)\n",
    "- many more"
   ]
  },
  {
   "cell_type": "markdown",
   "id": "9b6916cb",
   "metadata": {},
   "source": [
    "## String Buffer\n",
    "1. Append notpossible in String"
   ]
  },
  {
   "cell_type": "markdown",
   "id": "f9bc3b53",
   "metadata": {},
   "source": [
    "StringBuffer - Method\n",
    "- Append - str.append()\n",
    "- Insert - str.insert(5, \"Hello\")\n",
    "- Delete - str.delete( 5, 10)\n",
    "- Reverse - str.reverse()\n",
    "- replace - str.replace(1,3, \"Hi\")\n",
    "- manymore"
   ]
  },
  {
   "cell_type": "markdown",
   "id": "3b8a7322",
   "metadata": {},
   "source": [
    "## This Keyword\n",
    "- represent current object instance"
   ]
  },
  {
   "cell_type": "markdown",
   "id": "4b873e5d",
   "metadata": {},
   "source": [
    "## Inheritance\n",
    "- Single Inheritance\n",
    "- Multi Level Inheritance\n",
    "- Hierarchical Inheritance\n",
    "\n",
    "Not Possible:\n",
    "- Multiple\n",
    "- Hybrid\n",
    "But can be achieved using Interfaces"
   ]
  },
  {
   "cell_type": "markdown",
   "id": "541e83d1",
   "metadata": {},
   "source": [
    "## Super Keyword\n",
    "- to use variables, methods, constructors of immediate parent class in derived class having same name\n",
    "- can be used only in derived class"
   ]
  },
  {
   "cell_type": "markdown",
   "id": "b7594fd7",
   "metadata": {},
   "source": [
    "## Method Overriding\n",
    "- static and final method cannot be overrided\n",
    "- method name should be same in every aspect in parent and derived class\n",
    "- return type, parameters, scope should be same\n"
   ]
  },
  {
   "cell_type": "markdown",
   "id": "e6cda17f",
   "metadata": {},
   "source": [
    "## Polymorphism\n",
    "1. Compile Time \n",
    "    - Method Overloading\n",
    "    - Static Binding\n",
    "    - implement in single class\n",
    "    - no need of inheritance\n",
    "    - method name should be same\n",
    "    - diff in parameters\n",
    "    - return type can be diff\n",
    "    - static methods can be overloaded\n",
    "    - early binding\n",
    "    \n",
    "2. Run time \n",
    "    - Method Overriding\n",
    "    - Dynamic Binding\n",
    "    - implement in two classes\n",
    "    - with the help of inheritance\n",
    "    - method name should be same\n",
    "    - method should have same parameters\n",
    "    - return type should be same\n",
    "    - static methods cannot be overridden\n",
    "    - late binding\n",
    "    - letters declared with final keyword cannot be overridden"
   ]
  },
  {
   "cell_type": "markdown",
   "id": "8d0b3645",
   "metadata": {},
   "source": [
    "## Abstract Methods and Class\n",
    "- Abstract Method \n",
    "    - only declaration but no definition\n",
    "- Abstract Class\n",
    "    - object cannot be created\n",
    "    - class contains at least one abstract method\n",
    "    - can have abstract method and normal method\n",
    "    - implementation of abstract methods will be written in derived class\n",
    "- Concrete Class\n",
    "    - object can be created\n",
    "    - class contains complete definition for all methods\n",
    "    "
   ]
  },
  {
   "cell_type": "markdown",
   "id": "ad7c0860",
   "metadata": {},
   "source": [
    "## Interfaces\n",
    "\n",
    "- to implement multiple and hybrid inheritance\n",
    "- two keywords\n",
    "    - interface\n",
    "    - implements\n",
    "- only abstract methods\n",
    "    - only method declaration but not definition\n",
    "    "
   ]
  },
  {
   "cell_type": "markdown",
   "id": "5ff56d5c",
   "metadata": {},
   "source": [
    "## Exception Handling\n",
    "- keywords - try, catch, throw, throws, final\n",
    "- checked exceptions\n",
    "    - compile time excep\n",
    "    \n",
    "- unchecked excep\n",
    "    - run time excep\n",
    "        - arithmetic\n",
    "        - number format\n",
    "        - array index out of\n",
    "        - null pointer"
   ]
  },
  {
   "cell_type": "code",
   "execution_count": null,
   "id": "b0c0cdb4",
   "metadata": {},
   "outputs": [],
   "source": []
  }
 ],
 "metadata": {
  "kernelspec": {
   "display_name": "Python 3",
   "language": "python",
   "name": "python3"
  },
  "language_info": {
   "codemirror_mode": {
    "name": "ipython",
    "version": 3
   },
   "file_extension": ".py",
   "mimetype": "text/x-python",
   "name": "python",
   "nbconvert_exporter": "python",
   "pygments_lexer": "ipython3",
   "version": "3.8.8"
  }
 },
 "nbformat": 4,
 "nbformat_minor": 5
}
